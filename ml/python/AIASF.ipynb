{
  "nbformat": 4,
  "nbformat_minor": 0,
  "metadata": {
    "colab": {
      "name": "AIASF.ipynb",
      "version": "0.3.2",
      "provenance": [],
      "collapsed_sections": []
    },
    "kernelspec": {
      "name": "python3",
      "display_name": "Python 3"
    },
    "accelerator": "GPU"
  },
  "cells": [
    {
      "cell_type": "markdown",
      "metadata": {
        "id": "ilW4XcCAaOTd",
        "colab_type": "text"
      },
      "source": [
        "# This Building Does Not Exist (Yet)\n",
        "\n",
        "## AIASF _NEXT_ 2019\n",
        "### Tyler Kvochick\n",
        "### TEECOM Research & Development"
      ]
    },
    {
      "cell_type": "markdown",
      "metadata": {
        "id": "zf3BWrB0aoIt",
        "colab_type": "text"
      },
      "source": [
        "# Goals\n",
        "\n",
        "## Beyond Metaphors\n",
        "\n",
        "What is a neural network, literally?\n",
        "\n",
        "## Inner Workings\n",
        "\n",
        "What makes a neural network...work?\n",
        "\n",
        "## Applications\n",
        "\n",
        "What interesting models exist today and what can we make them do?"
      ]
    },
    {
      "cell_type": "markdown",
      "metadata": {
        "id": "lMg_xxxiqHrf",
        "colab_type": "text"
      },
      "source": [
        "# Setup\n",
        "\n",
        "* Download a premade module for convenience\n",
        "* Install a network visualization module\n",
        "* Import libraries"
      ]
    },
    {
      "cell_type": "code",
      "metadata": {
        "id": "Qj7eiUGpVsH0",
        "colab_type": "code",
        "outputId": "ab76aca7-2f3b-48d3-b1c9-c1623a8d2ff7",
        "colab": {
          "base_uri": "https://localhost:8080/",
          "height": 68
        }
      },
      "source": [
        "!curl https://raw.githubusercontent.com/TEECOM/this-building-does-not-exist/master/ml/python/StyleGAN.py --output ./StyleGAN.py"
      ],
      "execution_count": 2,
      "outputs": [
        {
          "output_type": "stream",
          "text": [
            "  % Total    % Received % Xferd  Average Speed   Time    Time     Time  Current\n",
            "                                 Dload  Upload   Total   Spent    Left  Speed\n",
            "\r  0     0    0     0    0     0      0      0 --:--:-- --:--:-- --:--:--     0\r100 22745  100 22745    0     0  82709      0 --:--:-- --:--:-- --:--:-- 82709\n"
          ],
          "name": "stdout"
        }
      ]
    },
    {
      "cell_type": "code",
      "metadata": {
        "id": "2whokGTbb5z2",
        "colab_type": "code",
        "outputId": "17045c17-0d22-45b0-b374-bd9b3ac47b86",
        "colab": {
          "base_uri": "https://localhost:8080/",
          "height": 222
        }
      },
      "source": [
        "!pip install torchviz"
      ],
      "execution_count": 3,
      "outputs": [
        {
          "output_type": "stream",
          "text": [
            "Collecting torchviz\n",
            "\u001b[?25l  Downloading https://files.pythonhosted.org/packages/8f/8e/a9630c7786b846d08b47714dd363a051f5e37b4ea0e534460d8cdfc1644b/torchviz-0.0.1.tar.gz (41kB)\n",
            "\u001b[K     |████████████████████████████████| 51kB 12.2MB/s \n",
            "\u001b[?25hRequirement already satisfied: torch in /usr/local/lib/python3.6/dist-packages (from torchviz) (1.1.0)\n",
            "Requirement already satisfied: graphviz in /usr/local/lib/python3.6/dist-packages (from torchviz) (0.10.1)\n",
            "Requirement already satisfied: numpy in /usr/local/lib/python3.6/dist-packages (from torch->torchviz) (1.16.4)\n",
            "Building wheels for collected packages: torchviz\n",
            "  Building wheel for torchviz (setup.py) ... \u001b[?25l\u001b[?25hdone\n",
            "  Stored in directory: /root/.cache/pip/wheels/2a/c2/c5/b8b4d0f7992c735f6db5bfa3c5f354cf36502037ca2b585667\n",
            "Successfully built torchviz\n",
            "Installing collected packages: torchviz\n",
            "Successfully installed torchviz-0.0.1\n"
          ],
          "name": "stdout"
        }
      ]
    },
    {
      "cell_type": "code",
      "metadata": {
        "id": "32Pb2DroWfWC",
        "colab_type": "code",
        "colab": {}
      },
      "source": [
        "import sys\n",
        "import os\n",
        "import numpy as np\n",
        "import torch\n",
        "import torch.nn as nn\n",
        "import matplotlib.pyplot as plt\n",
        "from torchviz import make_dot\n",
        "from StyleGAN import Generator, Discriminator"
      ],
      "execution_count": 0,
      "outputs": []
    },
    {
      "cell_type": "markdown",
      "metadata": {
        "id": "Er15aE3zZppp",
        "colab_type": "text"
      },
      "source": [
        "# Beyond Metaphors\n",
        "\n",
        "What does a neural network look like?"
      ]
    },
    {
      "cell_type": "code",
      "metadata": {
        "id": "sE-Fay4AZ0kU",
        "colab_type": "code",
        "colab": {}
      },
      "source": [
        "# Network visualization class\n",
        "class NetworkVisualization(nn.Module):\n",
        "    def __init__(self):\n",
        "        super(NetworkVisualization, self).__init__()\n",
        "        \n",
        "        self.conv0 = nn.Conv2d(3, 6, (3, 3))\n",
        "        self.act0 = nn.LeakyReLU()\n",
        "        self.conv1 = nn.Conv2d(3, 6, (3, 3))\n",
        "        self.act1 = nn.LeakyReLU()\n",
        "    \n",
        "    def forward(self, x):\n",
        "        x0 = self.act0(self.conv0(x))\n",
        "        x1 = self.act1(self.conv1(x))\n",
        "        \n",
        "        return x0 + x1"
      ],
      "execution_count": 0,
      "outputs": []
    },
    {
      "cell_type": "code",
      "metadata": {
        "id": "EhlxDfhCX3lM",
        "colab_type": "code",
        "outputId": "e81cdd7b-c23b-4906-93f6-01f5272b9586",
        "colab": {
          "base_uri": "https://localhost:8080/",
          "height": 119
        }
      },
      "source": [
        "# Use our new class\n",
        "nv = NetworkVisualization().cuda()\n",
        "\n",
        "fake_image = torch.randn(1, 3, 512, 512).cuda()\n",
        "\n",
        "out = nv(fake_image)\n",
        "\n",
        "nv"
      ],
      "execution_count": 6,
      "outputs": [
        {
          "output_type": "execute_result",
          "data": {
            "text/plain": [
              "NetworkVisualization(\n",
              "  (conv0): Conv2d(3, 6, kernel_size=(3, 3), stride=(1, 1))\n",
              "  (act0): LeakyReLU(negative_slope=0.01)\n",
              "  (conv1): Conv2d(3, 6, kernel_size=(3, 3), stride=(1, 1))\n",
              "  (act1): LeakyReLU(negative_slope=0.01)\n",
              ")"
            ]
          },
          "metadata": {
            "tags": []
          },
          "execution_count": 6
        }
      ]
    },
    {
      "cell_type": "code",
      "metadata": {
        "id": "uvk58yp0YJNi",
        "colab_type": "code",
        "outputId": "ae59e643-b238-4dbf-f80b-21a92032634b",
        "colab": {
          "base_uri": "https://localhost:8080/",
          "height": 382
        }
      },
      "source": [
        "# Render the graph\n",
        "make_dot(out.mean())"
      ],
      "execution_count": 7,
      "outputs": [
        {
          "output_type": "execute_result",
          "data": {
            "text/plain": [
              "<graphviz.dot.Digraph at 0x7f12988b99e8>"
            ],
            "image/svg+xml": "<?xml version=\"1.0\" encoding=\"UTF-8\" standalone=\"no\"?>\n<!DOCTYPE svg PUBLIC \"-//W3C//DTD SVG 1.1//EN\"\n \"http://www.w3.org/Graphics/SVG/1.1/DTD/svg11.dtd\">\n<!-- Generated by graphviz version 2.40.1 (20161225.0304)\n -->\n<!-- Title: %3 Pages: 1 -->\n<svg width=\"345pt\" height=\"271pt\"\n viewBox=\"0.00 0.00 344.50 271.00\" xmlns=\"http://www.w3.org/2000/svg\" xmlns:xlink=\"http://www.w3.org/1999/xlink\">\n<g id=\"graph0\" class=\"graph\" transform=\"scale(1 1) rotate(0) translate(4 267)\">\n<title>%3</title>\n<polygon fill=\"#ffffff\" stroke=\"transparent\" points=\"-4,4 -4,-267 340.5,-267 340.5,4 -4,4\"/>\n<!-- 139717845424840 -->\n<g id=\"node1\" class=\"node\">\n<title>139717845424840</title>\n<polygon fill=\"#caff70\" stroke=\"#000000\" points=\"214.5,-21 116.5,-21 116.5,0 214.5,0 214.5,-21\"/>\n<text text-anchor=\"middle\" x=\"165.5\" y=\"-7.4\" font-family=\"Times,serif\" font-size=\"12.00\" fill=\"#000000\">MeanBackward0</text>\n</g>\n<!-- 139717845424280 -->\n<g id=\"node2\" class=\"node\">\n<title>139717845424280</title>\n<polygon fill=\"#d3d3d3\" stroke=\"#000000\" points=\"211.5,-78 119.5,-78 119.5,-57 211.5,-57 211.5,-78\"/>\n<text text-anchor=\"middle\" x=\"165.5\" y=\"-64.4\" font-family=\"Times,serif\" font-size=\"12.00\" fill=\"#000000\">AddBackward0</text>\n</g>\n<!-- 139717845424280&#45;&gt;139717845424840 -->\n<g id=\"edge1\" class=\"edge\">\n<title>139717845424280&#45;&gt;139717845424840</title>\n<path fill=\"none\" stroke=\"#000000\" d=\"M165.5,-56.7787C165.5,-49.6134 165.5,-39.9517 165.5,-31.3097\"/>\n<polygon fill=\"#000000\" stroke=\"#000000\" points=\"169.0001,-31.1732 165.5,-21.1732 162.0001,-31.1732 169.0001,-31.1732\"/>\n</g>\n<!-- 139717845424896 -->\n<g id=\"node3\" class=\"node\">\n<title>139717845424896</title>\n<polygon fill=\"#d3d3d3\" stroke=\"#000000\" points=\"156.5,-135 32.5,-135 32.5,-114 156.5,-114 156.5,-135\"/>\n<text text-anchor=\"middle\" x=\"94.5\" y=\"-121.4\" font-family=\"Times,serif\" font-size=\"12.00\" fill=\"#000000\">LeakyReluBackward0</text>\n</g>\n<!-- 139717845424896&#45;&gt;139717845424280 -->\n<g id=\"edge2\" class=\"edge\">\n<title>139717845424896&#45;&gt;139717845424280</title>\n<path fill=\"none\" stroke=\"#000000\" d=\"M107.8546,-113.7787C118.069,-105.5784 132.3561,-94.1085 144.1511,-84.6393\"/>\n<polygon fill=\"#000000\" stroke=\"#000000\" points=\"146.5985,-87.1629 152.2053,-78.1732 142.2162,-81.7043 146.5985,-87.1629\"/>\n</g>\n<!-- 139717845424728 -->\n<g id=\"node4\" class=\"node\">\n<title>139717845424728</title>\n<polygon fill=\"#d3d3d3\" stroke=\"#000000\" points=\"157,-192 0,-192 0,-171 157,-171 157,-192\"/>\n<text text-anchor=\"middle\" x=\"78.5\" y=\"-178.4\" font-family=\"Times,serif\" font-size=\"12.00\" fill=\"#000000\">CudnnConvolutionBackward</text>\n</g>\n<!-- 139717845424728&#45;&gt;139717845424896 -->\n<g id=\"edge3\" class=\"edge\">\n<title>139717845424728&#45;&gt;139717845424896</title>\n<path fill=\"none\" stroke=\"#000000\" d=\"M81.5095,-170.7787C83.5431,-163.5338 86.2932,-153.7367 88.7394,-145.0221\"/>\n<polygon fill=\"#000000\" stroke=\"#000000\" points=\"92.1711,-145.747 91.504,-135.1732 85.4316,-143.8552 92.1711,-145.747\"/>\n</g>\n<!-- 139717845425008 -->\n<g id=\"node5\" class=\"node\">\n<title>139717845425008</title>\n<polygon fill=\"#add8e6\" stroke=\"#000000\" points=\"81,-263 12,-263 12,-228 81,-228 81,-263\"/>\n<text text-anchor=\"middle\" x=\"46.5\" y=\"-235.4\" font-family=\"Times,serif\" font-size=\"12.00\" fill=\"#000000\"> (6, 3, 3, 3)</text>\n</g>\n<!-- 139717845425008&#45;&gt;139717845424728 -->\n<g id=\"edge4\" class=\"edge\">\n<title>139717845425008&#45;&gt;139717845424728</title>\n<path fill=\"none\" stroke=\"#000000\" d=\"M55.4138,-227.6724C59.5077,-219.4845 64.3773,-209.7453 68.5865,-201.327\"/>\n<polygon fill=\"#000000\" stroke=\"#000000\" points=\"71.7966,-202.733 73.1383,-192.2234 65.5356,-199.6024 71.7966,-202.733\"/>\n</g>\n<!-- 139717845425120 -->\n<g id=\"node6\" class=\"node\">\n<title>139717845425120</title>\n<polygon fill=\"#add8e6\" stroke=\"#000000\" points=\"153.5,-263 99.5,-263 99.5,-228 153.5,-228 153.5,-263\"/>\n<text text-anchor=\"middle\" x=\"126.5\" y=\"-235.4\" font-family=\"Times,serif\" font-size=\"12.00\" fill=\"#000000\"> (6)</text>\n</g>\n<!-- 139717845425120&#45;&gt;139717845424728 -->\n<g id=\"edge5\" class=\"edge\">\n<title>139717845425120&#45;&gt;139717845424728</title>\n<path fill=\"none\" stroke=\"#000000\" d=\"M113.1293,-227.6724C106.7214,-219.1286 99.0466,-208.8955 92.5525,-200.2367\"/>\n<polygon fill=\"#000000\" stroke=\"#000000\" points=\"95.3426,-198.1234 86.5426,-192.2234 89.7426,-202.3235 95.3426,-198.1234\"/>\n</g>\n<!-- 139717845424952 -->\n<g id=\"node7\" class=\"node\">\n<title>139717845424952</title>\n<polygon fill=\"#d3d3d3\" stroke=\"#000000\" points=\"306.5,-135 182.5,-135 182.5,-114 306.5,-114 306.5,-135\"/>\n<text text-anchor=\"middle\" x=\"244.5\" y=\"-121.4\" font-family=\"Times,serif\" font-size=\"12.00\" fill=\"#000000\">LeakyReluBackward0</text>\n</g>\n<!-- 139717845424952&#45;&gt;139717845424280 -->\n<g id=\"edge6\" class=\"edge\">\n<title>139717845424952&#45;&gt;139717845424280</title>\n<path fill=\"none\" stroke=\"#000000\" d=\"M229.6407,-113.7787C218.0547,-105.4192 201.7594,-93.6618 188.4931,-84.09\"/>\n<polygon fill=\"#000000\" stroke=\"#000000\" points=\"190.4501,-81.1861 180.2927,-78.1732 186.3543,-86.8627 190.4501,-81.1861\"/>\n</g>\n<!-- 139717845424448 -->\n<g id=\"node8\" class=\"node\">\n<title>139717845424448</title>\n<polygon fill=\"#d3d3d3\" stroke=\"#000000\" points=\"332,-192 175,-192 175,-171 332,-171 332,-192\"/>\n<text text-anchor=\"middle\" x=\"253.5\" y=\"-178.4\" font-family=\"Times,serif\" font-size=\"12.00\" fill=\"#000000\">CudnnConvolutionBackward</text>\n</g>\n<!-- 139717845424448&#45;&gt;139717845424952 -->\n<g id=\"edge7\" class=\"edge\">\n<title>139717845424448&#45;&gt;139717845424952</title>\n<path fill=\"none\" stroke=\"#000000\" d=\"M251.8072,-170.7787C250.6758,-163.6134 249.1503,-153.9517 247.7857,-145.3097\"/>\n<polygon fill=\"#000000\" stroke=\"#000000\" points=\"251.2021,-144.5049 246.1852,-135.1732 244.2878,-145.5967 251.2021,-144.5049\"/>\n</g>\n<!-- 139717845425064 -->\n<g id=\"node9\" class=\"node\">\n<title>139717845425064</title>\n<polygon fill=\"#add8e6\" stroke=\"#000000\" points=\"264,-263 195,-263 195,-228 264,-228 264,-263\"/>\n<text text-anchor=\"middle\" x=\"229.5\" y=\"-235.4\" font-family=\"Times,serif\" font-size=\"12.00\" fill=\"#000000\"> (6, 3, 3, 3)</text>\n</g>\n<!-- 139717845425064&#45;&gt;139717845424448 -->\n<g id=\"edge8\" class=\"edge\">\n<title>139717845425064&#45;&gt;139717845424448</title>\n<path fill=\"none\" stroke=\"#000000\" d=\"M236.1853,-227.6724C239.2224,-219.5735 242.8287,-209.9569 245.9618,-201.602\"/>\n<polygon fill=\"#000000\" stroke=\"#000000\" points=\"249.2446,-202.8157 249.4787,-192.2234 242.6903,-200.3578 249.2446,-202.8157\"/>\n</g>\n<!-- 139717845425176 -->\n<g id=\"node10\" class=\"node\">\n<title>139717845425176</title>\n<polygon fill=\"#add8e6\" stroke=\"#000000\" points=\"336.5,-263 282.5,-263 282.5,-228 336.5,-228 336.5,-263\"/>\n<text text-anchor=\"middle\" x=\"309.5\" y=\"-235.4\" font-family=\"Times,serif\" font-size=\"12.00\" fill=\"#000000\"> (6)</text>\n</g>\n<!-- 139717845425176&#45;&gt;139717845424448 -->\n<g id=\"edge9\" class=\"edge\">\n<title>139717845425176&#45;&gt;139717845424448</title>\n<path fill=\"none\" stroke=\"#000000\" d=\"M293.9009,-227.6724C286.3471,-219.0396 277.2844,-208.6821 269.6583,-199.9666\"/>\n<polygon fill=\"#000000\" stroke=\"#000000\" points=\"272.1021,-197.4444 262.883,-192.2234 266.8341,-202.054 272.1021,-197.4444\"/>\n</g>\n</g>\n</svg>\n"
          },
          "metadata": {
            "tags": []
          },
          "execution_count": 7
        }
      ]
    },
    {
      "cell_type": "code",
      "metadata": {
        "id": "5g6AhXApZmEz",
        "colab_type": "code",
        "colab": {
          "base_uri": "https://localhost:8080/",
          "height": 1382
        },
        "outputId": "da8a3678-c49c-47bd-b4a2-4197786dc71f"
      },
      "source": [
        "# Render the parameters\n",
        "params = [p for p in list(nv.conv0.parameters())]\n",
        "params"
      ],
      "execution_count": 8,
      "outputs": [
        {
          "output_type": "execute_result",
          "data": {
            "text/plain": [
              "[Parameter containing:\n",
              " tensor([[[[-0.1742,  0.0613,  0.1837],\n",
              "           [-0.0446, -0.1547,  0.1904],\n",
              "           [-0.1783,  0.0812, -0.0872]],\n",
              " \n",
              "          [[ 0.1405,  0.1764, -0.1429],\n",
              "           [-0.1508,  0.0066, -0.0185],\n",
              "           [-0.1792,  0.0979, -0.0402]],\n",
              " \n",
              "          [[ 0.0126, -0.1502, -0.0445],\n",
              "           [ 0.0542,  0.1348, -0.1392],\n",
              "           [ 0.1450,  0.0954, -0.1487]]],\n",
              " \n",
              " \n",
              "         [[[ 0.1273, -0.1273,  0.0328],\n",
              "           [-0.1228,  0.0335, -0.0318],\n",
              "           [-0.1132,  0.0948, -0.0937]],\n",
              " \n",
              "          [[-0.1349,  0.1559, -0.1011],\n",
              "           [-0.1635, -0.1710,  0.1274],\n",
              "           [ 0.1068,  0.0563, -0.1405]],\n",
              " \n",
              "          [[ 0.0166, -0.0707, -0.0190],\n",
              "           [-0.0293, -0.1766, -0.0022],\n",
              "           [-0.1628, -0.0686,  0.0811]]],\n",
              " \n",
              " \n",
              "         [[[ 0.0816,  0.0444, -0.0336],\n",
              "           [-0.1486,  0.0020,  0.1430],\n",
              "           [-0.0005, -0.0450,  0.1371]],\n",
              " \n",
              "          [[ 0.0171, -0.0725,  0.0576],\n",
              "           [ 0.1089, -0.0450,  0.0125],\n",
              "           [-0.0830,  0.0014, -0.1776]],\n",
              " \n",
              "          [[-0.0012, -0.0311, -0.1524],\n",
              "           [-0.0034, -0.0317, -0.1470],\n",
              "           [ 0.0446, -0.1530, -0.0341]]],\n",
              " \n",
              " \n",
              "         [[[-0.1020,  0.1164,  0.0367],\n",
              "           [-0.0589, -0.1148, -0.1857],\n",
              "           [ 0.1735,  0.0654,  0.1302]],\n",
              " \n",
              "          [[-0.0601, -0.0366, -0.1647],\n",
              "           [-0.0326, -0.0073, -0.1271],\n",
              "           [-0.1816, -0.1867,  0.1356]],\n",
              " \n",
              "          [[ 0.0488, -0.0980,  0.1908],\n",
              "           [ 0.0924, -0.0217, -0.0684],\n",
              "           [ 0.0083,  0.1380,  0.0652]]],\n",
              " \n",
              " \n",
              "         [[[ 0.1005,  0.0538,  0.1892],\n",
              "           [-0.0066,  0.0841, -0.0328],\n",
              "           [ 0.0051, -0.0144, -0.0066]],\n",
              " \n",
              "          [[-0.0910,  0.0476, -0.0096],\n",
              "           [ 0.0838, -0.0820, -0.0036],\n",
              "           [ 0.0415,  0.1462, -0.0790]],\n",
              " \n",
              "          [[-0.1809, -0.0355,  0.0622],\n",
              "           [-0.0710, -0.0945, -0.0296],\n",
              "           [-0.0915,  0.0588, -0.0390]]],\n",
              " \n",
              " \n",
              "         [[[-0.1684,  0.1084,  0.1740],\n",
              "           [-0.0055,  0.1725, -0.1022],\n",
              "           [ 0.0462, -0.0488, -0.1627]],\n",
              " \n",
              "          [[ 0.1872,  0.1298,  0.1401],\n",
              "           [-0.0043, -0.0797,  0.0984],\n",
              "           [ 0.0623,  0.1800,  0.0563]],\n",
              " \n",
              "          [[-0.0959,  0.0518,  0.0111],\n",
              "           [-0.0246, -0.1869, -0.0353],\n",
              "           [-0.0316, -0.0365,  0.0353]]]], device='cuda:0', requires_grad=True),\n",
              " Parameter containing:\n",
              " tensor([ 0.0562, -0.1877, -0.0392, -0.0912, -0.0978, -0.0514], device='cuda:0',\n",
              "        requires_grad=True)]"
            ]
          },
          "metadata": {
            "tags": []
          },
          "execution_count": 8
        }
      ]
    },
    {
      "cell_type": "markdown",
      "metadata": {
        "id": "061DVh7-bSqg",
        "colab_type": "text"
      },
      "source": [
        "# No More Metaphors (Summary)\n",
        "\n",
        "## Multiple Representations of NNs\n",
        "\n",
        "1. As executable code / structured data (software)\n",
        "2. As a connective graph (visualization)\n",
        "3. As lists of numbers organized into rectilinear shapes (tensors)\n",
        "\n",
        "---"
      ]
    },
    {
      "cell_type": "markdown",
      "metadata": {
        "id": "bfzLAltZneAz",
        "colab_type": "text"
      },
      "source": [
        "# Inner Workings\n",
        "\n",
        "We have seen that deep learning models are full of orthogonal collections of numbers that we call tensors. The rest of the model is made of mathematical functions for combining those tensors.\n",
        "\n",
        "## Convolution\n",
        "\n",
        "For working with images, the most common function for combining tensors in a learnable way is called convolution.\n",
        "\n",
        "Convolution is a confusing name for \"searching for known patterns\".\n",
        "\n",
        "To get a better intuitive understanding of what convolution is, we are going to look at a 1D example."
      ]
    },
    {
      "cell_type": "code",
      "metadata": {
        "id": "6AaUM9n9a6Aj",
        "colab_type": "code",
        "colab": {
          "base_uri": "https://localhost:8080/",
          "height": 286
        },
        "outputId": "60ecb87a-b227-4e2a-d48e-f2f1eb60f73a"
      },
      "source": [
        "lim = 8 * np.pi\n",
        "x_axis = np.linspace(-lim, lim, 200)\n",
        "sin_x = np.sin(x_axis)\n",
        "\n",
        "plt.plot(x_axis, sin_x)"
      ],
      "execution_count": 21,
      "outputs": [
        {
          "output_type": "execute_result",
          "data": {
            "text/plain": [
              "[<matplotlib.lines.Line2D at 0x7f12902adf60>]"
            ]
          },
          "metadata": {
            "tags": []
          },
          "execution_count": 21
        },
        {
          "output_type": "display_data",
          "data": {
            "image/png": "[encoded data removed]",
            "text/plain": [
              "<Figure size 432x288 with 1 Axes>"
            ]
          },
          "metadata": {
            "tags": []
          }
        }
      ]
    },
    {
      "cell_type": "code",
      "metadata": {
        "id": "_1nKyr1JCmxM",
        "colab_type": "code",
        "colab": {
          "base_uri": "https://localhost:8080/",
          "height": 286
        },
        "outputId": "53a17d16-79f0-43f5-d0f8-95536d2d5c6e"
      },
      "source": [
        "# Put special_signal in an external file\n",
        "\n",
        "def special_signal():\n",
        "    low = -12 * np.pi\n",
        "    high = 4 * np.pi\n",
        "    \n",
        "    space_s = np.linspace(2 * low, 2 * high, 210)\n",
        "    space = np.linspace(-8 * np.pi, 8 * np.pi, 210)\n",
        "    \n",
        "    noise = np.random.randn(space.size) * 0.03\n",
        "    \n",
        "    event = np.sin(space_s) / space_s\n",
        "    \n",
        "    base_signal = np.sin(space) * noise\n",
        "    \n",
        "    return base_signal + event\n",
        "    \n",
        "ss = special_signal()\n",
        "\n",
        "plt.plot(ss)\n",
        "plt.vlines([140, 171], -0, 1, linestyles=\"--\")"
      ],
      "execution_count": 42,
      "outputs": [
        {
          "output_type": "execute_result",
          "data": {
            "text/plain": [
              "<matplotlib.collections.LineCollection at 0x7f1247b8e5c0>"
            ]
          },
          "metadata": {
            "tags": []
          },
          "execution_count": 42
        },
        {
          "output_type": "display_data",
          "data": {
            "image/png": "[encoded data removed]",
            "text/plain": [
              "<Figure size 432x288 with 1 Axes>"
            ]
          },
          "metadata": {
            "tags": []
          }
        }
      ]
    },
    {
      "cell_type": "code",
      "metadata": {
        "id": "MokEwbFxEmRS",
        "colab_type": "code",
        "colab": {
          "base_uri": "https://localhost:8080/",
          "height": 286
        },
        "outputId": "243423ba-eef6-448f-e69e-78eb833002eb"
      },
      "source": [
        "label = np.zeros_like(ss)\n",
        "label[140:171] = 1.0\n",
        "\n",
        "plt.plot(label)"
      ],
      "execution_count": 41,
      "outputs": [
        {
          "output_type": "execute_result",
          "data": {
            "text/plain": [
              "[<matplotlib.lines.Line2D at 0x7f124797cef0>]"
            ]
          },
          "metadata": {
            "tags": []
          },
          "execution_count": 41
        },
        {
          "output_type": "display_data",
          "data": {
            "image/png": "[encoded data removed]",
            "text/plain": [
              "<Figure size 432x288 with 1 Axes>"
            ]
          },
          "metadata": {
            "tags": []
          }
        }
      ]
    },
    {
      "cell_type": "code",
      "metadata": {
        "id": "UJGTBdWTQVA9",
        "colab_type": "code",
        "colab": {
          "base_uri": "https://localhost:8080/",
          "height": 51
        },
        "outputId": "30ddeec3-0699-4f66-f42e-a1336ffeba63"
      },
      "source": [
        "a = np.arange(0, 10)\n",
        "print(a)\n",
        "print(a[2:5])"
      ],
      "execution_count": 44,
      "outputs": [
        {
          "output_type": "stream",
          "text": [
            "[0 1 2 3 4 5 6 7 8 9]\n",
            "[2 3 4]\n"
          ],
          "name": "stdout"
        }
      ]
    },
    {
      "cell_type": "code",
      "metadata": {
        "id": "ctXbtgpfLOuK",
        "colab_type": "code",
        "colab": {}
      },
      "source": [
        "# Define convolution from scratch\n",
        "\n",
        "def convolve(signal, kernel, stride=1):\n",
        "    sw = signal.shape[0]\n",
        "    kw = kernel.shape[0]\n",
        "    \n",
        "    n_positions = sw // stride\n",
        "    step_size = sw // n_positions\n",
        "\n",
        "    out = []\n",
        "    \n",
        "    input_slices = []\n",
        "    \n",
        "    for i in range(n_positions):\n",
        "        start_idx = i * step_size\n",
        "        \n",
        "        this_slice = signal[start_idx:start_idx + kw]\n",
        "        \n",
        "        tsw = this_slice.shape[0]\n",
        "        \n",
        "        # Ensure that our output is the same shape as our kernel\n",
        "        this_slice = np.pad(this_slice, (0, kw - tsw), 'constant')\n",
        "        \n",
        "        input_slices += [this_slice]\n",
        "\n",
        "        product = this_slice * kernel\n",
        "        \n",
        "        out += [np.sum(product)]\n",
        "\n",
        "    return np.array(out), np.stack(input_slices)\n",
        "        "
      ],
      "execution_count": 0,
      "outputs": []
    },
    {
      "cell_type": "code",
      "metadata": {
        "id": "3TUUtAVnQz__",
        "colab_type": "code",
        "colab": {
          "base_uri": "https://localhost:8080/",
          "height": 286
        },
        "outputId": "572541b4-c472-4876-a154-a1782a186d3b"
      },
      "source": [
        "# Examine one step of applying convolution\n",
        "\n",
        "kernel = np.random.randn(30)\n",
        "\n",
        "output, input_slices = convolve(ss, kernel, stride=1)\n",
        "\n",
        "plt.plot(output)\n",
        "plt.plot(ss)\n",
        "plt.plot(label)"
      ],
      "execution_count": 98,
      "outputs": [
        {
          "output_type": "execute_result",
          "data": {
            "text/plain": [
              "[<matplotlib.lines.Line2D at 0x7f1247093588>]"
            ]
          },
          "metadata": {
            "tags": []
          },
          "execution_count": 98
        },
        {
          "output_type": "display_data",
          "data": {
            "image/png": "[encoded data removed]",
            "text/plain": [
              "<Figure size 432x288 with 1 Axes>"
            ]
          },
          "metadata": {
            "tags": []
          }
        }
      ]
    },
    {
      "cell_type": "code",
      "metadata": {
        "id": "aB-P8NCZTqLr",
        "colab_type": "code",
        "colab": {
          "base_uri": "https://localhost:8080/",
          "height": 286
        },
        "outputId": "50768585-c41c-42e4-ac19-75742a8bc544"
      },
      "source": [
        "# Define a loss function\n",
        "def squared_error(output, target):\n",
        "    error = target - output\n",
        "    sq_error = (error ** 3) / np.abs(error)\n",
        "    return sq_error\n",
        "\n",
        "se = squared_error(output, label)\n",
        "plt.plot(output)\n",
        "plt.plot(ss)\n",
        "plt.plot(label)\n",
        "plt.plot(se)"
      ],
      "execution_count": 100,
      "outputs": [
        {
          "output_type": "execute_result",
          "data": {
            "text/plain": [
              "[<matplotlib.lines.Line2D at 0x7f1246fc0ba8>]"
            ]
          },
          "metadata": {
            "tags": []
          },
          "execution_count": 100
        },
        {
          "output_type": "display_data",
          "data": {
            "image/png": "[encoded data removed]",
            "text/plain": [
              "<Figure size 432x288 with 1 Axes>"
            ]
          },
          "metadata": {
            "tags": []
          }
        }
      ]
    },
    {
      "cell_type": "markdown",
      "metadata": {
        "id": "jQ6QIHU3UxJM",
        "colab_type": "text"
      },
      "source": [
        "## Things Required to Make Machines Learn\n",
        "\n",
        "1. Input\n",
        "2. Label\n",
        "\n",
        "(Dataset)\n",
        "\n",
        "3. Function to transform Input -> Label\n",
        "4. Function to measure how far off the output is\n",
        "\n",
        "(Model)\n",
        "\n",
        "5. A way to update kernel based on how far off the output is\n",
        "\n",
        "(Backpropagation, i.e. derivatives)\n",
        "\n",
        "$$ O(\\mathbf{I}) = \\mathbf{I} \\cdot \\mathbf{k} $$\n",
        "$$\\frac{\\delta O}{\\delta \\mathbf{k}} = \\mathbf{I} $$\n"
      ]
    },
    {
      "cell_type": "code",
      "metadata": {
        "id": "AVMTzBraRr_Q",
        "colab_type": "code",
        "colab": {
          "base_uri": "https://localhost:8080/",
          "height": 1723
        },
        "outputId": "4adbb160-1322-454f-b7c0-209409e433b2"
      },
      "source": [
        "# Apply our convolution function to learn about our event\n",
        "\n",
        "kernel = np.random.randn(30)\n",
        "learning_rate = 0.0005\n",
        "losses = []\n",
        "\n",
        "for n in range(1000):\n",
        "    output, input_slices = convolve(ss, kernel)\n",
        "    \n",
        "    se = squared_error(output, label)\n",
        "    \n",
        "    loss = se.mean()\n",
        "    \n",
        "    losses += [loss]\n",
        "    \n",
        "    if n % 10 == 0:\n",
        "        print(\"Mean Squared Error Loss: {:.4f}\".format(loss))\n",
        "    \n",
        "    # Manual backpropagation\n",
        "    for (error, in_slice) in zip(se, input_slices):\n",
        "        kernel_update = error * in_slice * learning_rate\n",
        "        kernel = kernel + kernel_update\n",
        "    \n",
        "losses = np.array(losses)       "
      ],
      "execution_count": 135,
      "outputs": [
        {
          "output_type": "stream",
          "text": [
            "Mean Squared Error Loss: 0.7215\n",
            "Mean Squared Error Loss: 0.2704\n",
            "Mean Squared Error Loss: 0.1667\n",
            "Mean Squared Error Loss: 0.1255\n",
            "Mean Squared Error Loss: 0.1044\n",
            "Mean Squared Error Loss: 0.0920\n",
            "Mean Squared Error Loss: 0.0840\n",
            "Mean Squared Error Loss: 0.0785\n",
            "Mean Squared Error Loss: 0.0744\n",
            "Mean Squared Error Loss: 0.0713\n",
            "Mean Squared Error Loss: 0.0689\n",
            "Mean Squared Error Loss: 0.0669\n",
            "Mean Squared Error Loss: 0.0653\n",
            "Mean Squared Error Loss: 0.0639\n",
            "Mean Squared Error Loss: 0.0627\n",
            "Mean Squared Error Loss: 0.0616\n",
            "Mean Squared Error Loss: 0.0607\n",
            "Mean Squared Error Loss: 0.0599\n",
            "Mean Squared Error Loss: 0.0591\n",
            "Mean Squared Error Loss: 0.0585\n",
            "Mean Squared Error Loss: 0.0578\n",
            "Mean Squared Error Loss: 0.0573\n",
            "Mean Squared Error Loss: 0.0567\n",
            "Mean Squared Error Loss: 0.0563\n",
            "Mean Squared Error Loss: 0.0558\n",
            "Mean Squared Error Loss: 0.0554\n",
            "Mean Squared Error Loss: 0.0550\n",
            "Mean Squared Error Loss: 0.0546\n",
            "Mean Squared Error Loss: 0.0543\n",
            "Mean Squared Error Loss: 0.0539\n",
            "Mean Squared Error Loss: 0.0536\n",
            "Mean Squared Error Loss: 0.0533\n",
            "Mean Squared Error Loss: 0.0530\n",
            "Mean Squared Error Loss: 0.0528\n",
            "Mean Squared Error Loss: 0.0525\n",
            "Mean Squared Error Loss: 0.0523\n",
            "Mean Squared Error Loss: 0.0521\n",
            "Mean Squared Error Loss: 0.0519\n",
            "Mean Squared Error Loss: 0.0517\n",
            "Mean Squared Error Loss: 0.0515\n",
            "Mean Squared Error Loss: 0.0513\n",
            "Mean Squared Error Loss: 0.0511\n",
            "Mean Squared Error Loss: 0.0509\n",
            "Mean Squared Error Loss: 0.0508\n",
            "Mean Squared Error Loss: 0.0506\n",
            "Mean Squared Error Loss: 0.0505\n",
            "Mean Squared Error Loss: 0.0504\n",
            "Mean Squared Error Loss: 0.0502\n",
            "Mean Squared Error Loss: 0.0501\n",
            "Mean Squared Error Loss: 0.0500\n",
            "Mean Squared Error Loss: 0.0499\n",
            "Mean Squared Error Loss: 0.0498\n",
            "Mean Squared Error Loss: 0.0496\n",
            "Mean Squared Error Loss: 0.0495\n",
            "Mean Squared Error Loss: 0.0495\n",
            "Mean Squared Error Loss: 0.0494\n",
            "Mean Squared Error Loss: 0.0493\n",
            "Mean Squared Error Loss: 0.0492\n",
            "Mean Squared Error Loss: 0.0491\n",
            "Mean Squared Error Loss: 0.0490\n",
            "Mean Squared Error Loss: 0.0490\n",
            "Mean Squared Error Loss: 0.0489\n",
            "Mean Squared Error Loss: 0.0488\n",
            "Mean Squared Error Loss: 0.0487\n",
            "Mean Squared Error Loss: 0.0487\n",
            "Mean Squared Error Loss: 0.0486\n",
            "Mean Squared Error Loss: 0.0486\n",
            "Mean Squared Error Loss: 0.0485\n",
            "Mean Squared Error Loss: 0.0485\n",
            "Mean Squared Error Loss: 0.0484\n",
            "Mean Squared Error Loss: 0.0484\n",
            "Mean Squared Error Loss: 0.0483\n",
            "Mean Squared Error Loss: 0.0483\n",
            "Mean Squared Error Loss: 0.0482\n",
            "Mean Squared Error Loss: 0.0482\n",
            "Mean Squared Error Loss: 0.0481\n",
            "Mean Squared Error Loss: 0.0481\n",
            "Mean Squared Error Loss: 0.0481\n",
            "Mean Squared Error Loss: 0.0480\n",
            "Mean Squared Error Loss: 0.0480\n",
            "Mean Squared Error Loss: 0.0480\n",
            "Mean Squared Error Loss: 0.0479\n",
            "Mean Squared Error Loss: 0.0479\n",
            "Mean Squared Error Loss: 0.0479\n",
            "Mean Squared Error Loss: 0.0478\n",
            "Mean Squared Error Loss: 0.0478\n",
            "Mean Squared Error Loss: 0.0478\n",
            "Mean Squared Error Loss: 0.0478\n",
            "Mean Squared Error Loss: 0.0477\n",
            "Mean Squared Error Loss: 0.0477\n",
            "Mean Squared Error Loss: 0.0477\n",
            "Mean Squared Error Loss: 0.0477\n",
            "Mean Squared Error Loss: 0.0477\n",
            "Mean Squared Error Loss: 0.0476\n",
            "Mean Squared Error Loss: 0.0476\n",
            "Mean Squared Error Loss: 0.0476\n",
            "Mean Squared Error Loss: 0.0476\n",
            "Mean Squared Error Loss: 0.0476\n",
            "Mean Squared Error Loss: 0.0476\n",
            "Mean Squared Error Loss: 0.0475\n"
          ],
          "name": "stdout"
        }
      ]
    },
    {
      "cell_type": "code",
      "metadata": {
        "id": "JzTInm_paKcn",
        "colab_type": "code",
        "colab": {
          "base_uri": "https://localhost:8080/",
          "height": 286
        },
        "outputId": "8a82eb7a-a6f1-4c65-9c14-b6160af52839"
      },
      "source": [
        "# Plot output and label\n",
        "\n",
        "plt.plot(output)\n",
        "plt.plot(label)"
      ],
      "execution_count": 136,
      "outputs": [
        {
          "output_type": "execute_result",
          "data": {
            "text/plain": [
              "[<matplotlib.lines.Line2D at 0x7f1246924d30>]"
            ]
          },
          "metadata": {
            "tags": []
          },
          "execution_count": 136
        },
        {
          "output_type": "display_data",
          "data": {
            "image/png": "[encoded data removed]",
            "text/plain": [
              "<Figure size 432x288 with 1 Axes>"
            ]
          },
          "metadata": {
            "tags": []
          }
        }
      ]
    },
    {
      "cell_type": "code",
      "metadata": {
        "id": "LNE5T9TL-0-2",
        "colab_type": "code",
        "colab": {
          "base_uri": "https://localhost:8080/",
          "height": 286
        },
        "outputId": "f3cc907d-b18f-4cdc-c3b4-00020db14fe0"
      },
      "source": [
        "def gaussian_kernel(mu=0, sigma=1, width=30):\n",
        "    x = np.linspace(-sigma, 2 * sigma, width)\n",
        "    exp = np.e ** (-1 * (x - mu) ** 2)/(2 * sigma ** 2)\n",
        "    \n",
        "    return (1 / (sigma * np.sqrt(2 * np.pi))) * exp\n",
        "\n",
        "smooth, _ = convolve(output, gaussian_kernel())\n",
        "plt.plot(smooth / smooth.max())\n",
        "plt.plot(label)"
      ],
      "execution_count": 163,
      "outputs": [
        {
          "output_type": "execute_result",
          "data": {
            "text/plain": [
              "[<matplotlib.lines.Line2D at 0x7f12463eb6d8>]"
            ]
          },
          "metadata": {
            "tags": []
          },
          "execution_count": 163
        },
        {
          "output_type": "display_data",
          "data": {
            "image/png": "[encoded data removed]",
            "text/plain": [
              "<Figure size 432x288 with 1 Axes>"
            ]
          },
          "metadata": {
            "tags": []
          }
        }
      ]
    },
    {
      "cell_type": "code",
      "metadata": {
        "id": "X_n_lxyEaa9w",
        "colab_type": "code",
        "colab": {
          "base_uri": "https://localhost:8080/",
          "height": 371
        },
        "outputId": "0ca1c6f7-74f8-4af2-d80d-96b0d60c3d02"
      },
      "source": [
        "# Plot and print kernel\n",
        "\n",
        "plt.plot(kernel)\n",
        "kernel"
      ],
      "execution_count": 137,
      "outputs": [
        {
          "output_type": "execute_result",
          "data": {
            "text/plain": [
              "array([ 1.19663691,  0.61837706,  0.71739128, -0.53494237, -0.99623686,\n",
              "       -2.4865975 ,  1.15299923,  1.09748925,  3.41378121, -0.12536123,\n",
              "       -0.99650617, -0.04560978, -0.09850861, -0.42558539, -0.62278903,\n",
              "       -0.35544655,  1.0004429 ,  0.96057434,  0.20721645,  0.29359558,\n",
              "        0.26367147, -0.26253689, -0.04372914, -1.23167512,  0.61960067,\n",
              "       -1.46658917,  0.5269658 ,  1.52322538,  0.39852265, -1.09309095])"
            ]
          },
          "metadata": {
            "tags": []
          },
          "execution_count": 137
        },
        {
          "output_type": "display_data",
          "data": {
            "image/png": "[encoded data removed]",
            "text/plain": [
              "<Figure size 432x288 with 1 Axes>"
            ]
          },
          "metadata": {
            "tags": []
          }
        }
      ]
    },
    {
      "cell_type": "code",
      "metadata": {
        "id": "AFbrSE0DlUdh",
        "colab_type": "code",
        "colab": {
          "base_uri": "https://localhost:8080/",
          "height": 286
        },
        "outputId": "4f25e6d5-8712-4e65-c22e-800f4d5b3c2d"
      },
      "source": [
        "# Plot loss over time\n",
        "\n",
        "plt.plot(losses)"
      ],
      "execution_count": 138,
      "outputs": [
        {
          "output_type": "execute_result",
          "data": {
            "text/plain": [
              "[<matplotlib.lines.Line2D at 0x7f1246855f98>]"
            ]
          },
          "metadata": {
            "tags": []
          },
          "execution_count": 138
        },
        {
          "output_type": "display_data",
          "data": {
            "image/png": "[encoded data removed]",
            "text/plain": [
              "<Figure size 432x288 with 1 Axes>"
            ]
          },
          "metadata": {
            "tags": []
          }
        }
      ]
    },
    {
      "cell_type": "markdown",
      "metadata": {
        "id": "wAnUB2HdrAEr",
        "colab_type": "text"
      },
      "source": [
        "# How does it work (Summary)\n",
        "\n",
        "Neural networks use (fairly) simple mathematical functions to discover non-obvious solutions.\n",
        "These are not found by describing complex rules, but merely by describing relationships between inputs and desired outputs.\n",
        "\n",
        "We can use ideas from calculus and linear algebra to start from random values that transform from input to output and steer the output towards better and better results."
      ]
    },
    {
      "cell_type": "code",
      "metadata": {
        "id": "LB09p9bl3W7t",
        "colab_type": "code",
        "colab": {}
      },
      "source": [
        ""
      ],
      "execution_count": 0,
      "outputs": []
    }
  ]
}