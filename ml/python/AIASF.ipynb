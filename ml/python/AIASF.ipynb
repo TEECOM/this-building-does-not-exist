{
  "nbformat": 4,
  "nbformat_minor": 0,
  "metadata": {
    "colab": {
      "name": "AIASF.ipynb",
      "version": "0.3.2",
      "provenance": [],
      "collapsed_sections": []
    },
    "kernelspec": {
      "name": "python3",
      "display_name": "Python 3"
    },
    "accelerator": "GPU"
  },
  "cells": [
    {
      "cell_type": "markdown",
      "metadata": {
        "id": "ilW4XcCAaOTd",
        "colab_type": "text"
      },
      "source": [
        "# This Building Does Not Exist (Yet)\n",
        "\n",
        "## AIASF _NEXT_ 2019\n",
        "### Tyler Kvochick\n",
        "### TEECOM Research & Development"
      ]
    },
    {
      "cell_type": "markdown",
      "metadata": {
        "id": "zf3BWrB0aoIt",
        "colab_type": "text"
      },
      "source": [
        "# Goals\n",
        "\n",
        "## Beyond Metaphors\n",
        "\n",
        "What is a neural network, literally?\n",
        "\n",
        "## Inner Workings\n",
        "\n",
        "What makes a neural network...work?\n",
        "\n",
        "## Applications\n",
        "\n",
        "What interesting models exist today and what can we make them do?"
      ]
    },
    {
      "cell_type": "markdown",
      "metadata": {
        "id": "lMg_xxxiqHrf",
        "colab_type": "text"
      },
      "source": [
        "# Setup\n",
        "\n",
        "* Download a premade module for convenience\n",
        "* Install a network visualization module\n",
        "* Import libraries"
      ]
    },
    {
      "cell_type": "code",
      "metadata": {
        "id": "2whokGTbb5z2",
        "colab_type": "code",
        "colab": {}
      },
      "source": [
        "!pip install torchviz"
      ],
      "execution_count": 0,
      "outputs": []
    },
    {
      "cell_type": "code",
      "metadata": {
        "id": "32Pb2DroWfWC",
        "colab_type": "code",
        "colab": {}
      },
      "source": [
        "import sys\n",
        "import os\n",
        "import numpy as np\n",
        "import torch\n",
        "import torch.nn as nn\n",
        "import matplotlib.pyplot as plt\n",
        "from torchviz import make_dot\n",
        "import torchvision.transforms as transforms\n",
        "import torchvision.utils as vutils\n",
        "import matplotlib.pyplot as plt"
      ],
      "execution_count": 0,
      "outputs": []
    },
    {
      "cell_type": "markdown",
      "metadata": {
        "id": "Er15aE3zZppp",
        "colab_type": "text"
      },
      "source": [
        "# Beyond Metaphors\n",
        "\n",
        "What does a neural network look like?"
      ]
    },
    {
      "cell_type": "code",
      "metadata": {
        "id": "sE-Fay4AZ0kU",
        "colab_type": "code",
        "colab": {}
      },
      "source": [
        "# Network visualization class\n",
        "class NetworkVisualization(nn.Module):\n",
        "    def __init__(self):\n",
        "        super(NetworkVisualization, self).__init__()\n",
        "        \n",
        "        self.conv0 = nn.Conv2d(3, 6, (3, 3))\n",
        "        self.act0 = nn.LeakyReLU()\n",
        "        self.conv1 = nn.Conv2d(3, 6, (3, 3))\n",
        "        self.act1 = nn.LeakyReLU()\n",
        "    \n",
        "    def forward(self, x):\n",
        "        x0 = self.act0(self.conv0(x))\n",
        "        x1 = self.act1(self.conv1(x))\n",
        "        \n",
        "        return x0 + x1"
      ],
      "execution_count": 0,
      "outputs": []
    },
    {
      "cell_type": "code",
      "metadata": {
        "id": "EhlxDfhCX3lM",
        "colab_type": "code",
        "colab": {}
      },
      "source": [
        "# Use our new class\n",
        "nv = NetworkVisualization().cuda()\n",
        "\n",
        "fake_image = torch.randn(1, 3, 512, 512).cuda()\n",
        "\n",
        "out = nv(fake_image)\n",
        "\n",
        "nv"
      ],
      "execution_count": 0,
      "outputs": []
    },
    {
      "cell_type": "code",
      "metadata": {
        "id": "uvk58yp0YJNi",
        "colab_type": "code",
        "colab": {}
      },
      "source": [
        "# Render the graph\n",
        "make_dot(out.mean())"
      ],
      "execution_count": 0,
      "outputs": []
    },
    {
      "cell_type": "code",
      "metadata": {
        "id": "5g6AhXApZmEz",
        "colab_type": "code",
        "colab": {}
      },
      "source": [
        "# Render the parameters\n",
        "params = [p for p in list(nv.conv0.parameters())]\n",
        "params"
      ],
      "execution_count": 0,
      "outputs": []
    },
    {
      "cell_type": "markdown",
      "metadata": {
        "id": "061DVh7-bSqg",
        "colab_type": "text"
      },
      "source": [
        "# No More Metaphors (Summary)\n",
        "\n",
        "## Multiple Representations of NNs\n",
        "\n",
        "1. As executable code / structured data (software)\n",
        "2. As a connective graph (visualization)\n",
        "3. As lists of numbers organized into rectilinear shapes (tensors)\n",
        "\n",
        "---"
      ]
    },
    {
      "cell_type": "markdown",
      "metadata": {
        "id": "bfzLAltZneAz",
        "colab_type": "text"
      },
      "source": [
        "# Inner Workings\n",
        "\n",
        "We have seen that deep learning models are full of orthogonal collections of numbers that we call tensors. The rest of the model is made of mathematical functions for combining those tensors.\n",
        "\n",
        "## Convolution\n",
        "\n",
        "For working with images, the most common function for combining tensors in a learnable way is called convolution.\n",
        "\n",
        "Convolution is a confusing name for \"searching for known patterns\".\n",
        "\n",
        "To get a better intuitive understanding of what convolution is, we are going to look at a 1D example."
      ]
    },
    {
      "cell_type": "code",
      "metadata": {
        "id": "6AaUM9n9a6Aj",
        "colab_type": "code",
        "colab": {}
      },
      "source": [
        "lim = 8 * np.pi\n",
        "x_axis = np.linspace(-lim, lim, 200)\n",
        "sin_x = np.sin(x_axis)\n",
        "\n",
        "plt.plot(x_axis, sin_x)"
      ],
      "execution_count": 0,
      "outputs": []
    },
    {
      "cell_type": "code",
      "metadata": {
        "id": "_1nKyr1JCmxM",
        "colab_type": "code",
        "colab": {}
      },
      "source": [
        "# Put special_signal in an external file\n",
        "\n",
        "def special_signal():\n",
        "    low = -12 * np.pi\n",
        "    high = 4 * np.pi\n",
        "    \n",
        "    space_s = np.linspace(2 * low, 2 * high, 210)\n",
        "    space = np.linspace(-8 * np.pi, 8 * np.pi, 210)\n",
        "    \n",
        "    noise = np.random.randn(space.size) * 0.03\n",
        "    \n",
        "    event = np.sin(space_s) / space_s\n",
        "    \n",
        "    base_signal = np.sin(space) * noise\n",
        "    \n",
        "    return base_signal + event\n",
        "    \n",
        "ss = special_signal()\n",
        "\n",
        "plt.plot(ss)\n",
        "plt.vlines([140, 171], -0, 1, linestyles=\"--\")"
      ],
      "execution_count": 0,
      "outputs": []
    },
    {
      "cell_type": "code",
      "metadata": {
        "id": "MokEwbFxEmRS",
        "colab_type": "code",
        "colab": {}
      },
      "source": [
        "label = np.zeros_like(ss)\n",
        "label[140:171] = 1.0\n",
        "\n",
        "plt.plot(label)"
      ],
      "execution_count": 0,
      "outputs": []
    },
    {
      "cell_type": "code",
      "metadata": {
        "id": "UJGTBdWTQVA9",
        "colab_type": "code",
        "colab": {}
      },
      "source": [
        "a = np.arange(0, 10)\n",
        "print(a)\n",
        "print(a[2:5])"
      ],
      "execution_count": 0,
      "outputs": []
    },
    {
      "cell_type": "code",
      "metadata": {
        "id": "ctXbtgpfLOuK",
        "colab_type": "code",
        "colab": {}
      },
      "source": [
        "# Define convolution from scratch\n",
        "\n",
        "def convolve(signal, kernel, stride=1):\n",
        "    sw = signal.shape[0]\n",
        "    kw = kernel.shape[0]\n",
        "    \n",
        "    n_positions = sw // stride\n",
        "    step_size = sw // n_positions\n",
        "\n",
        "    out = []\n",
        "    \n",
        "    input_slices = []\n",
        "    \n",
        "    for i in range(n_positions):\n",
        "        start_idx = i * step_size\n",
        "        \n",
        "        this_slice = signal[start_idx:start_idx + kw]\n",
        "        \n",
        "        tsw = this_slice.shape[0]\n",
        "        \n",
        "        # Ensure that our output is the same shape as our kernel\n",
        "        this_slice = np.pad(this_slice, (0, kw - tsw), 'constant')\n",
        "        \n",
        "        input_slices += [this_slice]\n",
        "\n",
        "        product = this_slice * kernel\n",
        "        \n",
        "        out += [np.sum(product)]\n",
        "\n",
        "    return np.array(out), np.stack(input_slices)\n",
        "        "
      ],
      "execution_count": 0,
      "outputs": []
    },
    {
      "cell_type": "code",
      "metadata": {
        "id": "3TUUtAVnQz__",
        "colab_type": "code",
        "colab": {}
      },
      "source": [
        "# Examine one step of applying convolution\n",
        "\n",
        "kernel = np.random.randn(30)\n",
        "\n",
        "output, input_slices = convolve(ss, kernel, stride=1)\n",
        "\n",
        "plt.plot(output)\n",
        "plt.plot(ss)\n",
        "plt.plot(label)"
      ],
      "execution_count": 0,
      "outputs": []
    },
    {
      "cell_type": "code",
      "metadata": {
        "id": "aB-P8NCZTqLr",
        "colab_type": "code",
        "colab": {}
      },
      "source": [
        "# Define a loss function\n",
        "def squared_error(output, target):\n",
        "    error = target - output\n",
        "    sq_error = (error ** 3) / np.abs(error)\n",
        "    return sq_error\n",
        "\n",
        "se = squared_error(output, label)\n",
        "plt.plot(output)\n",
        "plt.plot(ss)\n",
        "plt.plot(label)\n",
        "plt.plot(se)"
      ],
      "execution_count": 0,
      "outputs": []
    },
    {
      "cell_type": "markdown",
      "metadata": {
        "id": "jQ6QIHU3UxJM",
        "colab_type": "text"
      },
      "source": [
        "## Things Required to Make Machines Learn\n",
        "\n",
        "1. Input\n",
        "2. Label\n",
        "\n",
        "(Dataset)\n",
        "\n",
        "3. Function to transform Input -> Label\n",
        "4. Function to measure how far off the output is\n",
        "\n",
        "(Model)\n",
        "\n",
        "5. A way to update kernel based on how far off the output is\n",
        "\n",
        "(Backpropagation, i.e. derivatives)\n",
        "\n",
        "$$ O(\\mathbf{I}) = \\mathbf{I} \\cdot \\mathbf{k} $$\n",
        "$$\\frac{\\delta O}{\\delta \\mathbf{k}} = \\mathbf{I} $$\n"
      ]
    },
    {
      "cell_type": "code",
      "metadata": {
        "id": "AVMTzBraRr_Q",
        "colab_type": "code",
        "colab": {}
      },
      "source": [
        "# Apply our convolution function to learn about our event\n",
        "\n",
        "kernel = np.random.randn(30)\n",
        "learning_rate = 0.0005\n",
        "losses = []\n",
        "\n",
        "for n in range(1000):\n",
        "    output, input_slices = convolve(ss, kernel)\n",
        "    \n",
        "    se = squared_error(output, label)\n",
        "    \n",
        "    loss = se.mean()\n",
        "    \n",
        "    losses += [loss]\n",
        "    \n",
        "    if n % 10 == 0:\n",
        "        print(\"Mean Squared Error Loss: {:.4f}\".format(loss))\n",
        "    \n",
        "    # Manual backpropagation\n",
        "    for (error, in_slice) in zip(se, input_slices):\n",
        "        kernel_update = error * in_slice * learning_rate\n",
        "        kernel = kernel + kernel_update\n",
        "    \n",
        "losses = np.array(losses)       "
      ],
      "execution_count": 0,
      "outputs": []
    },
    {
      "cell_type": "code",
      "metadata": {
        "id": "JzTInm_paKcn",
        "colab_type": "code",
        "colab": {}
      },
      "source": [
        "# Plot output and label\n",
        "\n",
        "plt.plot(output)\n",
        "plt.plot(label)"
      ],
      "execution_count": 0,
      "outputs": []
    },
    {
      "cell_type": "code",
      "metadata": {
        "id": "LNE5T9TL-0-2",
        "colab_type": "code",
        "colab": {}
      },
      "source": [
        "# Smooth and plot\n",
        "\n",
        "def gaussian_kernel(mu=0, sigma=1, width=30):\n",
        "    x = np.linspace(-sigma, 2 * sigma, width)\n",
        "    exp = np.e ** (-1 * (x - mu) ** 2)/(2 * sigma ** 2)\n",
        "    \n",
        "    return (1 / (sigma * np.sqrt(2 * np.pi))) * exp\n",
        "\n",
        "smooth, _ = convolve(output, gaussian_kernel())\n",
        "plt.plot(smooth / smooth.max())\n",
        "plt.plot(label)"
      ],
      "execution_count": 0,
      "outputs": []
    },
    {
      "cell_type": "code",
      "metadata": {
        "id": "X_n_lxyEaa9w",
        "colab_type": "code",
        "colab": {}
      },
      "source": [
        "# Plot and print kernel\n",
        "\n",
        "plt.plot(kernel)\n",
        "kernel"
      ],
      "execution_count": 0,
      "outputs": []
    },
    {
      "cell_type": "code",
      "metadata": {
        "id": "AFbrSE0DlUdh",
        "colab_type": "code",
        "colab": {}
      },
      "source": [
        "# Plot loss over time\n",
        "\n",
        "plt.plot(losses)"
      ],
      "execution_count": 0,
      "outputs": []
    },
    {
      "cell_type": "markdown",
      "metadata": {
        "id": "wAnUB2HdrAEr",
        "colab_type": "text"
      },
      "source": [
        "# How does it work (Summary)\n",
        "\n",
        "Neural networks use (fairly) simple mathematical functions to discover non-obvious solutions.\n",
        "These are not found by describing complex rules, but merely by describing relationships between inputs and desired outputs.\n",
        "\n",
        "We can use ideas from calculus and linear algebra to start from random values that transform from input to output and steer the output towards better and better results."
      ]
    },
    {
      "cell_type": "markdown",
      "metadata": {
        "id": "WP4xuiI69jaB",
        "colab_type": "text"
      },
      "source": [
        "# Applications\n",
        "\n",
        "## Generative Models\n",
        "\n",
        "One of the fascinating things about deep neural nets is that they can learn arbitrary, _qualitative_ functions.\n",
        "\n",
        "Functions like \"generate images that are similar to this collection of images\".\n",
        "\n",
        "And this can be done with operations similar to what we have just written."
      ]
    },
    {
      "cell_type": "code",
      "metadata": {
        "id": "hZbi0uL1NZfe",
        "colab_type": "code",
        "colab": {}
      },
      "source": [
        "# Trasposed Convolution\n",
        "\n",
        "x = torch.randn(1, 1, 8)\n",
        "print(x.shape)\n",
        "x"
      ],
      "execution_count": 0,
      "outputs": []
    },
    {
      "cell_type": "code",
      "metadata": {
        "id": "ZpXDM7GBN280",
        "colab_type": "code",
        "colab": {}
      },
      "source": [
        "tc = nn.ConvTranspose1d(1, 1, 4, 2, 1, bias=False)\n",
        "tc"
      ],
      "execution_count": 0,
      "outputs": []
    },
    {
      "cell_type": "code",
      "metadata": {
        "id": "apGT2oJnOJkl",
        "colab_type": "code",
        "colab": {}
      },
      "source": [
        "y = tc(x)\n",
        "print(y.shape)\n",
        "y"
      ],
      "execution_count": 0,
      "outputs": []
    },
    {
      "cell_type": "code",
      "metadata": {
        "id": "Gm_ZQTCJObDK",
        "colab_type": "code",
        "colab": {}
      },
      "source": [
        "y = tc(y)\n",
        "print(y.shape)\n",
        "y"
      ],
      "execution_count": 0,
      "outputs": []
    },
    {
      "cell_type": "code",
      "metadata": {
        "id": "yFGyNSyfOg02",
        "colab_type": "code",
        "colab": {}
      },
      "source": [
        "make_dot(y)"
      ],
      "execution_count": 0,
      "outputs": []
    },
    {
      "cell_type": "code",
      "metadata": {
        "id": "LB09p9bl3W7t",
        "colab_type": "code",
        "colab": {}
      },
      "source": [
        "# Download module\n",
        "!curl https://raw.githubusercontent.com/TEECOM/this-building-does-not-exist/spaceheater-training/ml/python/DrawinGAN.py --output DrawinGAN.py"
      ],
      "execution_count": 0,
      "outputs": []
    },
    {
      "cell_type": "code",
      "metadata": {
        "id": "0a8LXGbmR8mN",
        "colab_type": "code",
        "colab": {}
      },
      "source": [
        "# Download dataset\n",
        "\n",
        "!wget https://www.dropbox.com/sh/v7uu10rkve2vnt8/AAA6InT1OjUquORG0i1syD7ka?dl=0 -O ALotOfPlans.zip\n",
        "!unzip ALotOfPlans.zip -d ."
      ],
      "execution_count": 0,
      "outputs": []
    },
    {
      "cell_type": "code",
      "metadata": {
        "id": "wTOto-4CVN3Z",
        "colab_type": "code",
        "colab": {}
      },
      "source": [
        "!ls ALotOfPlansModified/"
      ],
      "execution_count": 0,
      "outputs": []
    },
    {
      "cell_type": "code",
      "metadata": {
        "id": "7mv0Al6fK8uz",
        "colab_type": "code",
        "colab": {}
      },
      "source": [
        "!wget https://www.dropbox.com/s/2y9vp2u0c4mautt/1561057242-discriminator.pth?dl=0 -O discriminator.pth\n",
        "!wget https://www.dropbox.com/s/67n1i8ffqdsaedy/1561057242-generator.pth?dl=0 -O generator.pth"
      ],
      "execution_count": 0,
      "outputs": []
    },
    {
      "cell_type": "code",
      "metadata": {
        "id": "kbC1kLPM_HKG",
        "colab_type": "code",
        "colab": {}
      },
      "source": [
        "from DrawinGAN import Generator, Discriminator, Container, Trainer"
      ],
      "execution_count": 0,
      "outputs": []
    },
    {
      "cell_type": "code",
      "metadata": {
        "id": "lJR2e3HT_u4X",
        "colab_type": "code",
        "colab": {}
      },
      "source": [
        "class ConvBlock(nn.Module):\n",
        "    def __init__(self, in_channels, out_channels, latent_dim=512):\n",
        "        super(ConvBlock, self).__init__()\n",
        "\n",
        "        self.latent_dim = latent_dim\n",
        "\n",
        "        self.a = Generator.A(in_channels, latent_dim=latent_dim)\n",
        "\n",
        "        self.ada_in = Generator.AdaIN()\n",
        "\n",
        "        self.conv = nn.ConvTranspose2d(\n",
        "            in_channels,\n",
        "            out_channels,\n",
        "            4,\n",
        "            2,\n",
        "            1,\n",
        "            bias=False\n",
        "            )\n",
        "\n",
        "        self.bn = nn.BatchNorm2d(out_channels)\n",
        "        self.act = nn.LeakyReLU()\n",
        "\n",
        "    def forward(self, container):\n",
        "        nx, cx, hx, wx = container.x.shape\n",
        "\n",
        "        y = self.a(container.w)\n",
        "\n",
        "        x = self.ada_in(container.x, y)\n",
        "\n",
        "        x = self.conv(container.x)\n",
        "\n",
        "        x = self.bn(x)\n",
        "\n",
        "        x = self.act(x)\n",
        "\n",
        "        return Container(x, container.w)"
      ],
      "execution_count": 0,
      "outputs": []
    },
    {
      "cell_type": "code",
      "metadata": {
        "id": "ULchKdC5E6qN",
        "colab_type": "code",
        "colab": {}
      },
      "source": [
        "generator = Generator.DrawingGenerator(ConvBlock, output_channels=1).cuda()\n",
        "discriminator = Discriminator.DrawingDiscriminator(input_channels=1).cuda()"
      ],
      "execution_count": 0,
      "outputs": []
    },
    {
      "cell_type": "code",
      "metadata": {
        "id": "FslAKCgeLW6c",
        "colab_type": "code",
        "colab": {}
      },
      "source": [
        "device = torch.device(\"cuda\")\n",
        "\n",
        "generator.load_state_dict(torch.load(\"generator.pth\", map_location=\"cuda:0\"))\n",
        "discriminator.load_state_dict(torch.load(\"discriminator.pth\", map_location=\"cuda:0\"))"
      ],
      "execution_count": 0,
      "outputs": []
    },
    {
      "cell_type": "code",
      "metadata": {
        "id": "j2Jp8lN9U_r1",
        "colab_type": "code",
        "colab": {}
      },
      "source": [
        "dataloader, n_batches = Trainer.image_dataset(\"alotofplansmodified\", batch_size=4)"
      ],
      "execution_count": 0,
      "outputs": []
    },
    {
      "cell_type": "code",
      "metadata": {
        "id": "FOLL6IuCRWTE",
        "colab_type": "code",
        "colab": {}
      },
      "source": [
        "import matplotlib\n",
        "%matplotlib inline\n",
        "Trainer.notebook_train(generator, discriminator, dataloader, n_batches, plt)"
      ],
      "execution_count": 0,
      "outputs": []
    },
    {
      "cell_type": "code",
      "metadata": {
        "id": "Lk1U7eGFaKQx",
        "colab_type": "code",
        "colab": {}
      },
      "source": [
        "to_image = transforms.ToPILImage()\n",
        "\n",
        "z = torch.randn(4, 512, 1, 1).cuda()\n",
        "\n",
        "fake_images = generator.forward(z, None, mode=\"generator\")\n",
        "\n",
        "image_grid = vutils.make_grid(fake_images.clone().cpu(), nrow=2, normalize=True)\n",
        "image_grid= to_image(image_grid)\n",
        "\n",
        "image_grid\n",
        "    "
      ],
      "execution_count": 0,
      "outputs": []
    },
    {
      "cell_type": "code",
      "metadata": {
        "id": "dOAZmQRScerk",
        "colab_type": "code",
        "colab": {}
      },
      "source": [
        ""
      ],
      "execution_count": 0,
      "outputs": []
    }
  ]
}