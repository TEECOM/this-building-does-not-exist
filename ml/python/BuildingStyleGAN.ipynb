{
 "cells": [
  {
   "cell_type": "code",
   "execution_count": 1,
   "metadata": {},
   "outputs": [],
   "source": [
    "import torch\n",
    "import torch.nn as nn\n",
    "import torch.nn.functional as nnf"
   ]
  },
  {
   "cell_type": "code",
   "execution_count": 2,
   "metadata": {},
   "outputs": [],
   "source": [
    "class Settings:\n",
    "    LatentDimension = 512"
   ]
  },
  {
   "cell_type": "markdown",
   "metadata": {},
   "source": [
    "## Mapping Network\n",
    "\n",
    "The mapping network is stated to be a nonlinear function:\n",
    "\n",
    "$$f : Z \\rightarrow W$$\n",
    "\n",
    "The authors state that this function is implemented practically as a multilayer perceptron (MLP) with 8 layers and that both spaces $Z$ and $W$ are set to be 512-dimensional.\n",
    "\n",
    "We could state this more explicitly as:\n",
    "\n",
    "$$ Z, W \\in \\mathbb{R}^{512} $$\n",
    "\n",
    "All that this means is that both $Z$ and $W$ are lists of real numbers that have 512 entries ( `[1.1, 2.65, 3.141, ..., 6.022]` ).\n",
    "\n",
    "### Multilayer Perceptron\n",
    "\n",
    "But what, exactly, is a \"multilayer perceptron\"?\n",
    "\n",
    "An MLP is a "
   ]
  },
  {
   "cell_type": "code",
   "execution_count": 6,
   "metadata": {},
   "outputs": [],
   "source": [
    "class MappingNetwork(nn.Module):\n",
    "    def __init__(self, num_layers=8, in_features=512):\n",
    "        super(MappingNetwork, self).__init__()\n",
    "        \n",
    "        self.mlp = nn.Sequential(*[nn.Linear(in_features, in_features) for _ in range(num_layers)])\n",
    "    \n",
    "    def forward(self, z):\n",
    "        return self.mlp(z)"
   ]
  }
 ],
 "metadata": {
  "kernelspec": {
   "display_name": "Python 3",
   "language": "python",
   "name": "python3"
  },
  "language_info": {
   "codemirror_mode": {
    "name": "ipython",
    "version": 3
   },
   "file_extension": ".py",
   "mimetype": "text/x-python",
   "name": "python",
   "nbconvert_exporter": "python",
   "pygments_lexer": "ipython3",
   "version": "3.6.8"
  }
 },
 "nbformat": 4,
 "nbformat_minor": 2
}
